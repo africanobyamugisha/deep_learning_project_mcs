https://drive.google.com/file/d/1YLmK3WJbZF6uFr6hXv7PQNH8PpsOEWiP/view?usp=sharing
